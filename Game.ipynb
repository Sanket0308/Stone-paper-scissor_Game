{
 "cells": [
  {
   "cell_type": "code",
   "execution_count": null,
   "id": "e603b75b",
   "metadata": {},
   "outputs": [
    {
     "name": "stdout",
     "output_type": "stream",
     "text": [
      "Player name=Sanket \n",
      "Player Score=0 \n",
      "Computer Score=0\n",
      "\n"
     ]
    }
   ],
   "source": [
    "import random\n",
    "\n",
    "class Game():\n",
    "    def __init__(s,name,name1):\n",
    "        s.name=name\n",
    "        s.name1=name1\n",
    "        s.__player=0\n",
    "        s.__computer=0\n",
    "    \n",
    "    def game(s):\n",
    "        print(\"\\nPress 1 for stone \\nPress 2 for scissor \\nPress 3 for paper\\n\")\n",
    "        s.player=int(input(\"Enter the value:\"))\n",
    "        s.com=[1,2,3]\n",
    "        a=random.choice(s.com)\n",
    "        if a==1 and s.player==1:\n",
    "            print(\"Draw\\n\")\n",
    "        elif a==2 and s.player==1:\n",
    "            print(\"player win\\n\")\n",
    "            s.__player=s.__player+5\n",
    "        elif a==3 and s.player==1:\n",
    "            print(\"Computer win\\n\")\n",
    "            s.__computer=s.__computer+5\n",
    "        elif a==1 and s.player==2:\n",
    "            print(\"Computer win\\n\")\n",
    "            s.__computer=s.__computer+5\n",
    "        elif a==2 and s.player==2:\n",
    "            print(\"Draw\\n\")\n",
    "        elif a==3 and s.player==2:\n",
    "            print(\"player win\\n\")\n",
    "            s.__player=s.__player+5\n",
    "        elif a==1 and s.player==3:\n",
    "            print(\"player win\\n\")\n",
    "            s.__player=s.__player+5\n",
    "        elif a==2 and s.player==3:\n",
    "            print(\"computer win\\n\")\n",
    "            s.__computer=s.__computer+5\n",
    "        elif a==3 and s.player==3:\n",
    "            print(\"Draw\\n\")     \n",
    "        else:\n",
    "            print(\"Invalid input\")\n",
    "            \n",
    "    def intro(s):\n",
    "        print(f\"Player name={s.name} \\nPlayer Score={s.__player} \\nComputer Score={s.__computer}\\n\")\n",
    "        \n",
    "        \n",
    "g=Game(\"Sanket\",\"Computer\")\n",
    "g.intro()\n",
    "\n",
    "while True:\n",
    "    play=int(input(\"Press 1 to play \\nPress 2 to Stop\\n\"))\n",
    "    if play==1:\n",
    "        g.game()\n",
    "        g.intro()\n",
    "       \n",
    "    \n",
    "    elif play==2:\n",
    "        break"
   ]
  },
  {
   "cell_type": "code",
   "execution_count": null,
   "id": "81e10c51",
   "metadata": {},
   "outputs": [],
   "source": []
  }
 ],
 "metadata": {
  "kernelspec": {
   "display_name": "Python 3 (ipykernel)",
   "language": "python",
   "name": "python3"
  },
  "language_info": {
   "codemirror_mode": {
    "name": "ipython",
    "version": 3
   },
   "file_extension": ".py",
   "mimetype": "text/x-python",
   "name": "python",
   "nbconvert_exporter": "python",
   "pygments_lexer": "ipython3",
   "version": "3.9.7"
  }
 },
 "nbformat": 4,
 "nbformat_minor": 5
}
